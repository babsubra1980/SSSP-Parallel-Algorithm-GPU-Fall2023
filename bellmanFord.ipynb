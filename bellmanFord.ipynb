{
  "nbformat": 4,
  "nbformat_minor": 0,
  "metadata": {
    "colab": {
      "provenance": [],
      "gpuType": "T4",
      "authorship_tag": "ABX9TyMpLZkPYhr4sBAXOFjhglas",
      "include_colab_link": true
    },
    "kernelspec": {
      "name": "python3",
      "display_name": "Python 3"
    },
    "language_info": {
      "name": "python"
    },
    "accelerator": "GPU"
  },
  "cells": [
    {
      "cell_type": "markdown",
      "metadata": {
        "id": "view-in-github",
        "colab_type": "text"
      },
      "source": [
        "<a href=\"https://colab.research.google.com/github/babsubra1980/Term-Project-ParallelAlgorithm/blob/main/bellmanFord.ipynb\" target=\"_parent\"><img src=\"https://colab.research.google.com/assets/colab-badge.svg\" alt=\"Open In Colab\"/></a>"
      ]
    },
    {
      "cell_type": "code",
      "execution_count": 1,
      "metadata": {
        "colab": {
          "base_uri": "https://localhost:8080/"
        },
        "id": "zpgEB6zQOBQA",
        "outputId": "4337394b-7049-4e67-a890-70169b3a6ae0"
      },
      "outputs": [
        {
          "output_type": "stream",
          "name": "stdout",
          "text": [
            "nvcc: NVIDIA (R) Cuda compiler driver\n",
            "Copyright (c) 2005-2022 NVIDIA Corporation\n",
            "Built on Wed_Sep_21_10:33:58_PDT_2022\n",
            "Cuda compilation tools, release 11.8, V11.8.89\n",
            "Build cuda_11.8.r11.8/compiler.31833905_0\n"
          ]
        }
      ],
      "source": [
        "!nvcc --version"
      ]
    },
    {
      "cell_type": "code",
      "source": [
        "!pip install git+https://github.com/andreinechaev/nvcc4jupyter.git"
      ],
      "metadata": {
        "colab": {
          "base_uri": "https://localhost:8080/"
        },
        "id": "5xkk76SoOb9L",
        "outputId": "8c4b6757-15fb-4f49-da0c-4a9aa509303b"
      },
      "execution_count": 2,
      "outputs": [
        {
          "output_type": "stream",
          "name": "stdout",
          "text": [
            "Collecting git+https://github.com/andreinechaev/nvcc4jupyter.git\n",
            "  Cloning https://github.com/andreinechaev/nvcc4jupyter.git to /tmp/pip-req-build-s3k72u9r\n",
            "  Running command git clone --filter=blob:none --quiet https://github.com/andreinechaev/nvcc4jupyter.git /tmp/pip-req-build-s3k72u9r\n",
            "  Resolved https://github.com/andreinechaev/nvcc4jupyter.git to commit 0a71d56e5dce3ff1f0dd2c47c29367629262f527\n",
            "  Preparing metadata (setup.py) ... \u001b[?25l\u001b[?25hdone\n",
            "Building wheels for collected packages: NVCCPlugin\n",
            "  Building wheel for NVCCPlugin (setup.py) ... \u001b[?25l\u001b[?25hdone\n",
            "  Created wheel for NVCCPlugin: filename=NVCCPlugin-0.0.2-py3-none-any.whl size=4294 sha256=14958e28b153e56ae7b154b64391ab3e3c5145c3889ee46f8b30717cac9afd5f\n",
            "  Stored in directory: /tmp/pip-ephem-wheel-cache-racdbj7j/wheels/a8/b9/18/23f8ef71ceb0f63297dd1903aedd067e6243a68ea756d6feea\n",
            "Successfully built NVCCPlugin\n",
            "Installing collected packages: NVCCPlugin\n",
            "Successfully installed NVCCPlugin-0.0.2\n"
          ]
        }
      ]
    },
    {
      "cell_type": "code",
      "source": [
        "%load_ext nvcc_plugin"
      ],
      "metadata": {
        "colab": {
          "base_uri": "https://localhost:8080/"
        },
        "id": "yZcqVE2nOfNU",
        "outputId": "fc6f50e0-93e2-4531-f258-715dee65e64e"
      },
      "execution_count": 3,
      "outputs": [
        {
          "output_type": "stream",
          "name": "stdout",
          "text": [
            "created output directory at /content/src\n",
            "Out bin /content/result.out\n"
          ]
        }
      ]
    },
{
      "cell_type": "code",
      "source": [
%%cu
#include <cuda_runtime.h>
#include <device_launch_parameters.h>
#include <iostream>

#define MAX_INT 1000000

__global__ void bellmanFord(int *dev_edges, int *dev_weights, int *dev_distances, int num_vertices, int num_edges) {
    int tid = blockIdx.x * blockDim.x + threadIdx.x;

    if (tid < num_vertices) {
        for (int i = 0; i < num_edges; ++i) {
            int source = dev_edges[i * 3];
            int destination = dev_edges[i * 3 + 1];
            int weight = dev_weights[i];

            if (dev_distances[source] != MAX_INT && dev_distances[source] + weight < dev_distances[destination]) {
                atomicMin(&dev_distances[destination], dev_distances[source] + weight);
            }
        }
    }
}

int main() {

    // Start tracking the execution time of Bellman Ford on GPU
    cudaEvent_t start, stop;
    cudaEventCreate(&start);
    cudaEventCreate(&stop);
    std::cout << "Running Bellman Ford on GPU" << std::endl;
    cudaEventRecord(start, 0);

    const int num_vertices = 5;
    const int num_edges = 8;

    int edges[num_edges][3] = {
        {0, 1, 5},
        {0, 2, -2},
        {1, 2, 4},
        {1, 3, 3},
        {2, 1, 6},
        {2, 3, 7},
        {2, 4, 2},
        {3, 4, 1}
    };

    int weights[num_edges] = {5, -2, 4, 3, 6, 7, 2, 1};

    int distances[num_vertices] = {0, MAX_INT, MAX_INT, MAX_INT, MAX_INT};

    int *dev_edges, *dev_weights, *dev_distances;

    cudaMalloc((void**)&dev_edges, num_edges * 3 * sizeof(int));
    cudaMalloc((void**)&dev_weights, num_edges * sizeof(int));
    cudaMalloc((void**)&dev_distances, num_vertices * sizeof(int));

    cudaMemcpy(dev_edges, edges, num_edges * 3 * sizeof(int), cudaMemcpyHostToDevice);
    cudaMemcpy(dev_weights, weights, num_edges * sizeof(int), cudaMemcpyHostToDevice);
    cudaMemcpy(dev_distances, distances, num_vertices * sizeof(int), cudaMemcpyHostToDevice);

    const int num_blocks = 1;
    const int num_threads_per_block = num_vertices;

    bellmanFord<<<num_blocks, num_threads_per_block>>>(dev_edges, dev_weights, dev_distances, num_vertices, num_edges);

    cudaMemcpy(distances, dev_distances, num_vertices * sizeof(int), cudaMemcpyDeviceToHost);

    // Stop tracking the execution time of Bellman Ford on GPU
    cudaEventRecord(stop, 0);
    cudaEventSynchronize(stop);
    std::cout << "Completed Execution of Bellman Ford on GPU" << std::endl;
    float elapsedTime;
    cudaEventElapsedTime(&elapsedTime, start, stop);

    // Print the distances
    for (int i = 0; i < num_vertices; ++i) {
        std::cout << "Distance to vertex " << i << " is: " << distances[i] << std::endl;
    }

    std::cout << "Time elapsed : " << elapsedTime << " milli seconds " << std::endl;

    cudaFree(dev_edges);
    cudaFree(dev_weights);
    cudaFree(dev_distances);

    return 0;
}],
    {
      "cell_type": "code",
      "source": [],
      "metadata": {
        "id": "N6rhqATSO1f5"
      },
      "execution_count": null,
      "outputs": []
    }
  ]
}
